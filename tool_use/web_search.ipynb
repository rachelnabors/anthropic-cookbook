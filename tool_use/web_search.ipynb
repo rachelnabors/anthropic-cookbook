{
 "cells": [
  {
   "cell_type": "markdown",
   "metadata": {},
   "source": [
    "# Using the Web Search Tool with Claude\n",
    "In this recipe, we'll demonstrate how to instruct Claude to use the web search tool to answer a question. You can [find more information in the docs.](https://docs.anthropic.com/en/docs/agents-and-tools/tool-use/web-search-tool)"
   ]
  },
  {
   "cell_type": "markdown",
   "metadata": {},
   "source": [
    "## Step 1: Set up the environment\n",
    "\n",
    "First, let's install the required libraries and set up the Anthropic API client."
   ]
  },
  {
   "cell_type": "code",
   "execution_count": null,
   "metadata": {},
   "outputs": [],
   "source": [
    "%pip install anthropic dotenv"
   ]
  },
  {
   "cell_type": "code",
   "execution_count": null,
   "metadata": {},
   "outputs": [],
   "source": [
    "from anthropic import Anthropic"
   ]
  },
  {
   "cell_type": "markdown",
   "metadata": {},
   "source": [
    "I've added a loader for `.env` file, the safest way to manage API keys. Encourage you not to hardcode!"
   ]
  },
  {
   "cell_type": "code",
   "execution_count": null,
   "metadata": {},
   "outputs": [],
   "source": [
    "from dotenv import load_dotenv\n",
    "load_dotenv()\n",
    "# Make an .env file in the same directory as this file and add your API key as ANTHROPIC_API_KEY\n",
    "client = Anthropic()\n",
    "\n",
    "MODEL_NAME = \"claude-opus-4-20250514\""
   ]
  },
  {
   "cell_type": "markdown",
   "metadata": {},
   "source": [
    "## Step 2: Configure the web search tool\n",
    "Each tool comes with its own set of parameters to configure. Here we've laid out all the optional ones for demonstration purposes."
   ]
  },
  {
   "cell_type": "code",
   "execution_count": null,
   "metadata": {},
   "outputs": [],
   "source": [
    "tools = [{\n",
    "    \"type\": \"web_search_20250305\",\n",
    "    \"name\": \"web_search\",\n",
    "    \"max_uses\": 3, # Optional: Limit the number of searches per request\n",
    "    # \"allowed_domains\": [\"nearestnabors.com\", \"anthropic.com\"], # Optional: Only include results from these domains\n",
    "    \"blocked_domains\": [\"w3schools.com\"], # Optional: Never include results from these domains\n",
    "    \"user_location\": { #Optional: Localize search results\n",
    "        \"type\": \"approximate\",\n",
    "        \"city\": \"London\",\n",
    "        \"region\": \"England\",\n",
    "        \"country\": \"GB\",\n",
    "        \"timezone\": \"BST\"\n",
    "    }\n",
    "}]"
   ]
  },
  {
   "cell_type": "markdown",
   "metadata": {},
   "source": [
    "## Step 3: Interact with Claude\n",
    "Now, let's see how Claude can interact with web search."
   ]
  },
  {
   "cell_type": "code",
   "execution_count": null,
   "metadata": {},
   "outputs": [],
   "source": [
    "def chat_with_claude(user_message):\n",
    "\n",
    "    print(f\"\\n{'='*50}\\nUser Message: {user_message}\\n{'='*50}\")\n",
    "\n",
    "    message = client.messages.create(\n",
    "        model=MODEL_NAME,\n",
    "        max_tokens=1024,\n",
    "        messages=[{\"role\": \"user\", \"content\": user_message}],\n",
    "        tools=tools,\n",
    "        tool_choice={\"type\": \"tool\", \"name\": \"web_search\"},\n",
    "    )\n",
    "\n",
    "    response = message\n",
    "\n",
    "    last_content_block = response.content[-1]\n",
    "    print(f\"\\nResponse: {last_content_block.text}\")"
   ]
  },
  {
   "cell_type": "markdown",
   "metadata": {},
   "source": [
    "## Step 4: Try it out!\n",
    "\n",
    "Let's try giving Claude a few examples to see what it can find!"
   ]
  },
  {
   "cell_type": "code",
   "execution_count": null,
   "metadata": {},
   "outputs": [],
   "source": [
    "chat_with_claude(\"What are the current top 3 LLMs?\")\n",
    "chat_with_claude(\"When is AMOC predicted to fail?\")\n",
    "chat_with_claude(\"In the 2000s, there was a web comic for teenage girls called Subculture of One starring Rachel the Great and her cat, Tuna. What was the name of the creator?\")"
   ]
  }
 ],
 "metadata": {
  "kernelspec": {
   "display_name": "venv",
   "language": "python",
   "name": "python3"
  },
  "language_info": {
   "codemirror_mode": {
    "name": "ipython",
    "version": 3
   },
   "file_extension": ".py",
   "mimetype": "text/x-python",
   "name": "python",
   "nbconvert_exporter": "python",
   "pygments_lexer": "ipython3",
   "version": "3.12.9"
  }
 },
 "nbformat": 4,
 "nbformat_minor": 2
}
